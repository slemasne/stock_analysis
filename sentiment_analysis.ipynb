{
 "cells": [
  {
   "cell_type": "code",
   "execution_count": 62,
   "metadata": {},
   "outputs": [
    {
     "data": {
      "text/plain": [
       "'036b37dc8ebc496cab0aa3385e864621'"
      ]
     },
     "execution_count": 62,
     "metadata": {},
     "output_type": "execute_result"
    }
   ],
   "source": [
    "import requests\n",
    "from nltk.sentiment import SentimentAnalyzer\n",
    "from nltk.sentiment.vader import SentimentIntensityAnalyzer\n",
    "from nltk import tokenize\n",
    "\n",
    "API_KEY = \"036b37dc8ebc496cab0aa3385e864621\"\n",
    "\n",
    "API_KEY"
   ]
  },
  {
   "cell_type": "code",
   "execution_count": 53,
   "metadata": {},
   "outputs": [],
   "source": [
    "url = ('https://newsapi.org/v2/everything?'\n",
    "       'from=2018-03-06&'\n",
    "       'sortBy=popularity&'\n",
    "       'sources=financial-times&'\n",
    "       'apiKey={}').format(API_KEY)\n",
    "\n",
    "r = requests.get(url)\n",
    "\n",
    "data = r.json()"
   ]
  },
  {
   "cell_type": "code",
   "execution_count": 55,
   "metadata": {},
   "outputs": [
    {
     "data": {
      "text/plain": [
       "['CVS Health readies one of largest corporate bond sales on record',\n",
       " 'Smurfit Kappa rejects offer from International Paper',\n",
       " 'US oil pipelines pivot south as shale surges',\n",
       " 'Telecom Italia shares surge on news of Elliott stake',\n",
       " 'RBS in $500m mis-selling settlement with NY State',\n",
       " 'Trio in push on cyber security standards for fintechs',\n",
       " 'Lego sales show first annual fall since 2004',\n",
       " 'Nuns push Wells to identify \\xe2\\x80\\x98root causes\\xe2\\x80\\x99 of scandals',\n",
       " 'UK to respond \\xe2\\x80\\x98robustly\\xe2\\x80\\x99 if Russia poisoned MI6 double agent',\n",
       " 'FCA bans former Co-op Bank boss Paul Flowers from industry',\n",
       " 'Aston Martin Lagonda revs up for electric car race',\n",
       " 'Skripal spy case renews fear of Russia\\xe2\\x80\\x99s role in UK',\n",
       " 'P&G brand chief to \\xe2\\x80\\x98take back control\\xe2\\x80\\x99 from agencies',\n",
       " 'Chinese owner to sell 51% stake in House of Fraser',\n",
       " 'Facebook looks to change the tune',\n",
       " 'Smurfit Kappa rejects offer from International Paper',\n",
       " 'MPs call for UK to block Melrose takeover of GKN',\n",
       " 'Cut of 20% urged to processed food calorie content',\n",
       " 'Norway oil fund could lose $420bn in next market crash',\n",
       " 'Brussels and Paris to rebuff May\\xe2\\x80\\x99s hopes for City']"
      ]
     },
     "execution_count": 55,
     "metadata": {},
     "output_type": "execute_result"
    }
   ],
   "source": [
    "articles = data[\"articles\"]\n",
    "titles = []\n",
    "for i in articles:\n",
    "    titles.append(str(i[\"title\"].encode('utf8')))\n",
    "    \n",
    "titles"
   ]
  },
  {
   "cell_type": "code",
   "execution_count": null,
   "metadata": {},
   "outputs": [],
   "source": []
  },
  {
   "cell_type": "code",
   "execution_count": 69,
   "metadata": {},
   "outputs": [],
   "source": [
    "analyser = SentimentIntensityAnalyzer()\n",
    "def print_sentiment_scores(sentence):\n",
    "    snt = analyser.polarity_scores(sentence)\n",
    "    print(\"{:-<40} {}\".format(sentence, str(snt)))"
   ]
  },
  {
   "cell_type": "code",
   "execution_count": 72,
   "metadata": {},
   "outputs": [
    {
     "name": "stdout",
     "output_type": "stream",
     "text": [
      "CVS Health readies one of largest corporate bond sales on record {'neg': 0.0, 'neu': 1.0, 'pos': 0.0, 'compound': 0.0}\n",
      "Smurfit Kappa rejects offer from International Paper {'neg': 0.348, 'neu': 0.652, 'pos': 0.0, 'compound': -0.4939}\n",
      "US oil pipelines pivot south as shale surges {'neg': 0.0, 'neu': 1.0, 'pos': 0.0, 'compound': 0.0}\n",
      "Telecom Italia shares surge on news of Elliott stake {'neg': 0.0, 'neu': 0.784, 'pos': 0.216, 'compound': 0.296}\n",
      "RBS in $500m mis-selling settlement with NY State {'neg': 0.0, 'neu': 1.0, 'pos': 0.0, 'compound': 0.0}\n",
      "Trio in push on cyber security standards for fintechs {'neg': 0.0, 'neu': 0.769, 'pos': 0.231, 'compound': 0.34}\n",
      "Lego sales show first annual fall since 2004 {'neg': 0.0, 'neu': 1.0, 'pos': 0.0, 'compound': 0.0}\n",
      "Nuns push Wells to identify ‘root causes’ of scandals {'neg': 0.262, 'neu': 0.574, 'pos': 0.164, 'compound': -0.296}\n",
      "UK to respond ‘robustly’ if Russia poisoned MI6 double agent {'neg': 0.262, 'neu': 0.738, 'pos': 0.0, 'compound': -0.4939}\n",
      "FCA bans former Co-op Bank boss Paul Flowers from industry {'neg': 0.0, 'neu': 1.0, 'pos': 0.0, 'compound': 0.0}\n",
      "Aston Martin Lagonda revs up for electric car race {'neg': 0.0, 'neu': 1.0, 'pos': 0.0, 'compound': 0.0}\n",
      "Skripal spy case renews fear of Russia’s role in UK {'neg': 0.262, 'neu': 0.738, 'pos': 0.0, 'compound': -0.4939}\n",
      "P&G brand chief to ‘take back control’ from agencies {'neg': 0.0, 'neu': 1.0, 'pos': 0.0, 'compound': 0.0}\n",
      "Chinese owner to sell 51% stake in House of Fraser {'neg': 0.0, 'neu': 1.0, 'pos': 0.0, 'compound': 0.0}\n",
      "Facebook looks to change the tune------- {'neg': 0.0, 'neu': 1.0, 'pos': 0.0, 'compound': 0.0}\n",
      "Smurfit Kappa rejects offer from International Paper {'neg': 0.348, 'neu': 0.652, 'pos': 0.0, 'compound': -0.4939}\n",
      "MPs call for UK to block Melrose takeover of GKN {'neg': 0.244, 'neu': 0.756, 'pos': 0.0, 'compound': -0.4404}\n",
      "Cut of 20% urged to processed food calorie content {'neg': 0.208, 'neu': 0.792, 'pos': 0.0, 'compound': -0.2732}\n",
      "Norway oil fund could lose $420bn in next market crash {'neg': 0.403, 'neu': 0.597, 'pos': 0.0, 'compound': -0.6597}\n",
      "Brussels and Paris to rebuff May’s hopes for City {'neg': 0.0, 'neu': 0.741, 'pos': 0.259, 'compound': 0.4215}\n"
     ]
    }
   ],
   "source": [
    "for i in titles:\n",
    "    print_sentiment_scores(i)"
   ]
  },
  {
   "cell_type": "code",
   "execution_count": null,
   "metadata": {},
   "outputs": [],
   "source": []
  }
 ],
 "metadata": {
  "anaconda-cloud": {},
  "kernelspec": {
   "display_name": "Python 2",
   "language": "python",
   "name": "python2"
  },
  "language_info": {
   "codemirror_mode": {
    "name": "ipython",
    "version": 2
   },
   "file_extension": ".py",
   "mimetype": "text/x-python",
   "name": "python",
   "nbconvert_exporter": "python",
   "pygments_lexer": "ipython2",
   "version": "2.7.14"
  }
 },
 "nbformat": 4,
 "nbformat_minor": 2
}
